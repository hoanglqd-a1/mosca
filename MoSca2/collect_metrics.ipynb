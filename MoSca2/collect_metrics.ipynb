{
 "cells": [
  {
   "cell_type": "markdown",
   "metadata": {},
   "source": [
    "# DyCheck"
   ]
  },
  {
   "cell_type": "code",
   "execution_count": 2,
   "metadata": {},
   "outputs": [
    {
     "name": "stdout",
     "output_type": "stream",
     "text": [
      "._data_iphone\n"
     ]
    },
    {
     "name": "stderr",
     "output_type": "stream",
     "text": [
      "  0%|          | 0/7 [00:00<?, ?it/s]"
     ]
    },
    {
     "name": "stdout",
     "output_type": "stream",
     "text": [
      "['iphone_fit_native_add3_20241128_062522']\n",
      "['AVE' 0 0 0 19.43648926656049 0.8085708771657226 0.3378470032467117]\n",
      "apple\n",
      "./data/iphone/apple/logs/iphone_fit_native_add3_20241128_062522/tto_dycheck_metrics.xlsx\n",
      "19.43648926656049 0.8085708771657226 0.3378470032467117\n"
     ]
    },
    {
     "name": "stderr",
     "output_type": "stream",
     "text": [
      " 14%|█▍        | 1/7 [00:00<00:01,  3.01it/s]"
     ]
    },
    {
     "name": "stdout",
     "output_type": "stream",
     "text": [
      "['iphone_fit_native_add3_20241128_062624']\n",
      "['AVE' 0 0 0 18.20599677215988 0.6798545462616916 0.3227250996663133]\n",
      "block\n",
      "./data/iphone/block/logs/iphone_fit_native_add3_20241128_062624/tto_dycheck_metrics.xlsx\n",
      "18.20599677215988 0.6798545462616916 0.3227250996663133\n"
     ]
    },
    {
     "name": "stderr",
     "output_type": "stream",
     "text": [
      " 29%|██▊       | 2/7 [00:00<00:01,  3.37it/s]"
     ]
    },
    {
     "name": "stdout",
     "output_type": "stream",
     "text": [
      "['iphone_fit_native_add3_20241128_054329']\n",
      "['AVE' 0 0 0 22.41702025147213 0.7460043616681793 0.1544256411663807]\n",
      "paper-windmill\n",
      "./data/iphone/paper-windmill/logs/iphone_fit_native_add3_20241128_054329/tto_dycheck_metrics.xlsx\n",
      "22.41702025147213 0.7460043616681793 0.1544256411663807\n"
     ]
    },
    {
     "name": "stderr",
     "output_type": "stream",
     "text": [
      " 43%|████▎     | 3/7 [00:00<00:01,  3.88it/s]"
     ]
    },
    {
     "name": "stdout",
     "output_type": "stream",
     "text": [
      "['iphone_fit_native_add3_20241128_062612']\n",
      "['AVE' 0 0 0 20.68121434518419 0.6678216209670695 0.2514100958555518]\n",
      "space-out\n",
      "./data/iphone/space-out/logs/iphone_fit_native_add3_20241128_062612/tto_dycheck_metrics.xlsx\n",
      "20.68121434518419 0.6678216209670695 0.2514100958555518\n"
     ]
    },
    {
     "name": "stderr",
     "output_type": "stream",
     "text": [
      " 57%|█████▋    | 4/7 [00:01<00:00,  3.93it/s]"
     ]
    },
    {
     "name": "stdout",
     "output_type": "stream",
     "text": [
      "['iphone_fit_native_add3_20241128_061529']\n",
      "['AVE' 0 0 0 21.31346721067983 0.752840263113751 0.1872113802376613]\n",
      "spin\n",
      "./data/iphone/spin/logs/iphone_fit_native_add3_20241128_061529/tto_dycheck_metrics.xlsx\n",
      "21.31346721067983 0.752840263113751 0.1872113802376613\n"
     ]
    },
    {
     "name": "stderr",
     "output_type": "stream",
     "text": [
      " 71%|███████▏  | 5/7 [00:01<00:00,  3.53it/s]"
     ]
    },
    {
     "name": "stdout",
     "output_type": "stream",
     "text": [
      "['iphone_fit_native_add3_20241128_062446']\n",
      "['AVE' 0 0 0 15.21926590453747 0.6171933838794398 0.3608264375475417]\n",
      "teddy\n",
      "./data/iphone/teddy/logs/iphone_fit_native_add3_20241128_062446/tto_dycheck_metrics.xlsx\n",
      "15.21926590453747 0.6171933838794398 0.3608264375475417\n"
     ]
    },
    {
     "name": "stderr",
     "output_type": "stream",
     "text": [
      "100%|██████████| 7/7 [00:01<00:00,  3.77it/s]\n"
     ]
    },
    {
     "name": "stdout",
     "output_type": "stream",
     "text": [
      "['iphone_fit_native_add3_20241128_061826']\n",
      "['AVE' 0 0 0 18.20065171751257 0.6833943613043659 0.228398344776637]\n",
      "wheel\n",
      "./data/iphone/wheel/logs/iphone_fit_native_add3_20241128_061826/tto_dycheck_metrics.xlsx\n",
      "18.20065171751257 0.6833943613043659 0.228398344776637\n",
      "mean psnr 19.353443638300938\n",
      "mean ssim 0.70795420205146\n",
      "mean lpips 0.2632634289281139\n",
      "mean pck 0.8254847641571429\n",
      "._data_iphone\n"
     ]
    },
    {
     "name": "stderr",
     "output_type": "stream",
     "text": [
      "  0%|          | 0/7 [00:00<?, ?it/s]"
     ]
    },
    {
     "name": "stdout",
     "output_type": "stream",
     "text": [
      "['iphone_fit_colfree_native_add3_20241128_072355']\n",
      "['AVE' 0 0 0 16.46278885611914 0.7180035684565852 0.4725700232324894]\n",
      "apple\n",
      "./data/iphone/apple/logs/iphone_fit_colfree_native_add3_20241128_072355/tto_dycheck_metrics.xlsx\n",
      "16.46278885611914 0.7180035684565852 0.4725700232324894\n"
     ]
    },
    {
     "name": "stderr",
     "output_type": "stream",
     "text": [
      " 14%|█▍        | 1/7 [00:00<00:01,  4.81it/s]"
     ]
    },
    {
     "name": "stdout",
     "output_type": "stream",
     "text": [
      "['iphone_fit_colfree_native_add3_20241128_080356']\n",
      "['AVE' 0 0 0 18.19129272844123 0.6678599977064347 0.3225520892862068]\n",
      "block\n",
      "./data/iphone/block/logs/iphone_fit_colfree_native_add3_20241128_080356/tto_dycheck_metrics.xlsx\n",
      "18.19129272844123 0.6678599977064347 0.3225520892862068\n"
     ]
    },
    {
     "name": "stderr",
     "output_type": "stream",
     "text": [
      " 43%|████▎     | 3/7 [00:00<00:00,  4.65it/s]"
     ]
    },
    {
     "name": "stdout",
     "output_type": "stream",
     "text": [
      "['iphone_fit_colfree_native_add3_20241128_070617']\n",
      "['AVE' 0 0 0 21.46942599804134 0.6464398213104303 0.1673237599672467]\n",
      "paper-windmill\n",
      "./data/iphone/paper-windmill/logs/iphone_fit_colfree_native_add3_20241128_070617/tto_dycheck_metrics.xlsx\n",
      "21.46942599804134 0.6464398213104303 0.1673237599672467\n",
      "['iphone_fit_colfree_native_add3_20241128_075401']\n"
     ]
    },
    {
     "name": "stderr",
     "output_type": "stream",
     "text": [
      " 57%|█████▋    | 4/7 [00:00<00:00,  4.36it/s]"
     ]
    },
    {
     "name": "stdout",
     "output_type": "stream",
     "text": [
      "['AVE' 0 0 0 22.48884984155058 0.7502009344346022 0.1976704915175143]\n",
      "space-out\n",
      "./data/iphone/space-out/logs/iphone_fit_colfree_native_add3_20241128_075401/tto_dycheck_metrics.xlsx\n",
      "22.48884984155058 0.7502009344346022 0.1976704915175143\n",
      "['iphone_fit_colfree_native_add3_20241128_074958']\n",
      "['AVE' 0 0 0 20.76340684335978 0.6782043604309209 0.2319951191902338]\n",
      "spin\n",
      "./data/iphone/spin/logs/iphone_fit_colfree_native_add3_20241128_074958/tto_dycheck_metrics.xlsx\n",
      "20.76340684335978 0.6782043604309209 0.2319951191902338\n"
     ]
    },
    {
     "name": "stderr",
     "output_type": "stream",
     "text": [
      " 71%|███████▏  | 5/7 [00:01<00:00,  3.82it/s]"
     ]
    },
    {
     "name": "stdout",
     "output_type": "stream",
     "text": [
      "['iphone_fit_colfree_native_add3_20241128_075514']\n",
      "['AVE' 0 0 0 15.33436355064082 0.620017683003531 0.3579325345139279]\n",
      "teddy\n",
      "./data/iphone/teddy/logs/iphone_fit_colfree_native_add3_20241128_075514/tto_dycheck_metrics.xlsx\n",
      "15.33436355064082 0.620017683003531 0.3579325345139279\n"
     ]
    },
    {
     "name": "stderr",
     "output_type": "stream",
     "text": [
      "100%|██████████| 7/7 [00:01<00:00,  4.34it/s]\n"
     ]
    },
    {
     "name": "stdout",
     "output_type": "stream",
     "text": [
      "['iphone_fit_colfree_native_add3_20241128_072752']\n",
      "['AVE' 0 0 0 17.66310209770725 0.6581913872396565 0.2407609169490327]\n",
      "wheel\n",
      "./data/iphone/wheel/logs/iphone_fit_colfree_native_add3_20241128_072752/tto_dycheck_metrics.xlsx\n",
      "17.66310209770725 0.6581913872396565 0.2407609169490327\n",
      "mean psnr 18.910461416551446\n",
      "mean ssim 0.6769882503688801\n",
      "mean lpips 0.28440070495095027\n",
      "mean pck 0.8282040401142857\n",
      "._data_iphone\n"
     ]
    },
    {
     "name": "stderr",
     "output_type": "stream",
     "text": [
      "  0%|          | 0/7 [00:00<?, ?it/s]"
     ]
    },
    {
     "name": "stdout",
     "output_type": "stream",
     "text": [
      "['iphone_fit_focalonly_native_add3_20241128_083147']\n",
      "['AVE' 0 0 0 17.0962443638565 0.7349289813099947 0.4327979609059472]\n",
      "apple\n",
      "./data/iphone/apple/logs/iphone_fit_focalonly_native_add3_20241128_083147/tto_dycheck_metrics.xlsx\n",
      "17.0962443638565 0.7349289813099947 0.4327979609059472\n"
     ]
    },
    {
     "name": "stderr",
     "output_type": "stream",
     "text": [
      " 14%|█▍        | 1/7 [00:00<00:01,  4.92it/s]"
     ]
    },
    {
     "name": "stdout",
     "output_type": "stream",
     "text": [
      "['iphone_fit_focalonly_native_add3_20241128_094119']\n",
      "['AVE' 0 0 0 18.20014637485258 0.6687649999601373 0.3254971522601027]\n",
      "block\n",
      "./data/iphone/block/logs/iphone_fit_focalonly_native_add3_20241128_094119/tto_dycheck_metrics.xlsx\n",
      "18.20014637485258 0.6687649999601373 0.3254971522601027\n"
     ]
    },
    {
     "name": "stderr",
     "output_type": "stream",
     "text": [
      " 43%|████▎     | 3/7 [00:00<00:00,  4.68it/s]"
     ]
    },
    {
     "name": "stdout",
     "output_type": "stream",
     "text": [
      "['iphone_fit_focalonly_native_add3_20241128_080353']\n",
      "['AVE' 0 0 0 21.4804674162216 0.6544775507615119 0.1660386543215904]\n",
      "paper-windmill\n",
      "./data/iphone/paper-windmill/logs/iphone_fit_focalonly_native_add3_20241128_080353/tto_dycheck_metrics.xlsx\n",
      "21.4804674162216 0.6544775507615119 0.1660386543215904\n",
      "['iphone_fit_focalonly_native_add3_20241128_092324']\n"
     ]
    },
    {
     "name": "stderr",
     "output_type": "stream",
     "text": [
      " 57%|█████▋    | 4/7 [00:00<00:00,  4.35it/s]"
     ]
    },
    {
     "name": "stdout",
     "output_type": "stream",
     "text": [
      "['AVE' 0 0 0 22.53459177563369 0.7449666960123877 0.1963754277745873]\n",
      "space-out\n",
      "./data/iphone/space-out/logs/iphone_fit_focalonly_native_add3_20241128_092324/tto_dycheck_metrics.xlsx\n",
      "22.53459177563369 0.7449666960123877 0.1963754277745873\n",
      "['iphone_fit_focalonly_native_add3_20241128_092236']\n",
      "['AVE' 0 0 0 20.75037322480263 0.6774089078823946 0.22870959011494]\n",
      "spin\n",
      "./data/iphone/spin/logs/iphone_fit_focalonly_native_add3_20241128_092236/tto_dycheck_metrics.xlsx\n",
      "20.75037322480263 0.6774089078823946 0.22870959011494\n"
     ]
    },
    {
     "name": "stderr",
     "output_type": "stream",
     "text": [
      " 71%|███████▏  | 5/7 [00:01<00:00,  3.84it/s]"
     ]
    },
    {
     "name": "stdout",
     "output_type": "stream",
     "text": [
      "['iphone_fit_focalonly_native_add3_20241128_092453']\n",
      "['AVE' 0 0 0 15.60331952571869 0.6259616004346416 0.3553404816940126]\n",
      "teddy\n",
      "./data/iphone/teddy/logs/iphone_fit_focalonly_native_add3_20241128_092453/tto_dycheck_metrics.xlsx\n",
      "15.60331952571869 0.6259616004346416 0.3553404816940126\n"
     ]
    },
    {
     "name": "stderr",
     "output_type": "stream",
     "text": [
      "100%|██████████| 7/7 [00:01<00:00,  4.36it/s]"
     ]
    },
    {
     "name": "stdout",
     "output_type": "stream",
     "text": [
      "['iphone_fit_focalonly_native_add3_20241128_084128']\n",
      "['AVE' 0 0 0 17.52769120969729 0.654372077282161 0.2425168622472538]\n",
      "wheel\n",
      "./data/iphone/wheel/logs/iphone_fit_focalonly_native_add3_20241128_084128/tto_dycheck_metrics.xlsx\n",
      "17.52769120969729 0.654372077282161 0.2425168622472538\n",
      "mean psnr 19.027547698683282\n",
      "mean ssim 0.6801258305204613\n",
      "mean lpips 0.2781823041883477\n",
      "mean pck 0.8234804901285714\n"
     ]
    },
    {
     "name": "stderr",
     "output_type": "stream",
     "text": [
      "\n"
     ]
    }
   ],
   "source": [
    "import os, os.path as osp\n",
    "import pandas as pd\n",
    "from tqdm import tqdm\n",
    "import datetime\n",
    "import shutil\n",
    "\n",
    "scene_name_list = [\n",
    "    \"apple\",\n",
    "    \"block\",\n",
    "    \"paper-windmill\",\n",
    "    \"space-out\",\n",
    "    \"spin\",\n",
    "    \"teddy\",\n",
    "    \"wheel\",\n",
    "]\n",
    "\n",
    "root = \"./data/iphone\"\n",
    "backup_root = \"./data/metrics_collected\"\n",
    "backup_flag = True\n",
    "prefix = \"tto_\"\n",
    "\n",
    "\n",
    "for name in [\"iphone_fit_native\", \"iphone_fit_colfree_native\", \"iphone_fit_focalonly_native\"]:\n",
    "\n",
    "    print(\"_\".join(root.split(\"/\")))\n",
    "    backup_dir = osp.join(\n",
    "        backup_root,\n",
    "        prefix\n",
    "        + name\n",
    "        + \"_\".join(root.split(\"/\"))\n",
    "        + datetime.datetime.now().strftime(\"%Y%m%d_%H%M%S\"),\n",
    "    )\n",
    "    os.makedirs(backup_dir, exist_ok=True)\n",
    "\n",
    "    results = {}\n",
    "    pck_results = {}\n",
    "    for scene_name in tqdm(scene_name_list):\n",
    "        # find the latest log\n",
    "        log_dirs = os.listdir(osp.join(root, scene_name, \"logs\"))\n",
    "        log_dirs = [d for d in log_dirs if name in d]\n",
    "\n",
    "        log_dirs.sort()\n",
    "        print(log_dirs)\n",
    "        log_dir = log_dirs[-1]\n",
    "        fn = osp.join(root, scene_name, \"logs\", log_dir, f\"{prefix}dycheck_metrics.xlsx\")\n",
    "        if not osp.exists(fn):\n",
    "            print(\"file not found\", fn)\n",
    "            psnr = 0\n",
    "            ssim = 0\n",
    "            lpips = 1000000\n",
    "        else:\n",
    "            # read the first line of xls\n",
    "            df = pd.read_excel(fn).to_numpy()\n",
    "\n",
    "            psnr = float(df[0][-3])\n",
    "            ssim = float(df[0][-2])\n",
    "            lpips = float(df[0][-1])\n",
    "            print(df[0])\n",
    "        print(scene_name)\n",
    "        print(fn)\n",
    "        print(psnr, ssim, lpips)\n",
    "        results[f\"{scene_name}-psnr\"] = psnr\n",
    "        results[f\"{scene_name}-ssim\"] = ssim\n",
    "        results[f\"{scene_name}-lpips\"] = lpips\n",
    "\n",
    "        pck_fn = osp.join(root, scene_name, \"logs\", log_dir, f\"pck5.txt\")\n",
    "        with open(pck_fn, \"r\") as f:\n",
    "            pck = float(f.read().split(\":\")[-1].strip(\"\\n\"))\n",
    "        pck_results[f\"{scene_name}-pck\"] = pck\n",
    "\n",
    "        if backup_flag:\n",
    "            # copy the log_dir into the backup\n",
    "            shutil.copytree(\n",
    "                osp.join(root, scene_name, \"logs\", log_dir, f\"{prefix}test\"),\n",
    "                osp.join(\n",
    "                    backup_dir,\n",
    "                    prefix + scene_name + f\"{log_dir}_test\" + \"_\".join(root.split(\"/\")),\n",
    "                ),\n",
    "            )\n",
    "    df = pd.DataFrame([results], index=[0])\n",
    "    df.to_excel(\n",
    "        osp.join(backup_dir, f\"{prefix}{name}_iphone_collected_masked_metrics.xlsx\")\n",
    "    )\n",
    "\n",
    "    mean_psnr = sum([results[f\"{scene}-psnr\"] for scene in scene_name_list]) / len(scene_name_list)\n",
    "    mean_ssim = sum([results[f\"{scene}-ssim\"] for scene in scene_name_list]) / len(scene_name_list)\n",
    "    mean_lpips = sum([results[f\"{scene}-lpips\"] for scene in scene_name_list]) / len(scene_name_list)\n",
    "\n",
    "    print(\"mean psnr\", mean_psnr)\n",
    "    print(\"mean ssim\", mean_ssim)\n",
    "    print(\"mean lpips\", mean_lpips)\n",
    "\n",
    "    df = pd.DataFrame([pck_results], index=[0])\n",
    "    df.to_excel(osp.join(backup_dir, f\"{prefix}{name}_iphone_collected_pck.xlsx\"))\n",
    "    mean_pck = sum(pck_results.values()) / len(pck_results)\n",
    "    print(\"mean pck\", mean_pck)"
   ]
  },
  {
   "cell_type": "markdown",
   "metadata": {},
   "source": [
    "# Nvidia"
   ]
  },
  {
   "cell_type": "code",
   "execution_count": null,
   "metadata": {},
   "outputs": [],
   "source": []
  },
  {
   "cell_type": "code",
   "execution_count": 10,
   "metadata": {},
   "outputs": [
    {
     "name": "stderr",
     "output_type": "stream",
     "text": [
      "  0%|          | 0/1 [00:00<?, ?it/s]\n"
     ]
    },
    {
     "ename": "FileNotFoundError",
     "evalue": "[Errno 2] No such file or directory: '/datasets/nvidia/'",
     "output_type": "error",
     "traceback": [
      "\u001b[0;31m---------------------------------------------------------------------------\u001b[0m",
      "\u001b[0;31mFileNotFoundError\u001b[0m                         Traceback (most recent call last)",
      "Cell \u001b[0;32mIn[10], line 33\u001b[0m\n\u001b[1;32m     30\u001b[0m results \u001b[38;5;241m=\u001b[39m {}\n\u001b[1;32m     31\u001b[0m \u001b[38;5;28;01mfor\u001b[39;00m scene_name \u001b[38;5;129;01min\u001b[39;00m tqdm(scene_name_list):\n\u001b[1;32m     32\u001b[0m     \u001b[38;5;66;03m# find the latest log\u001b[39;00m\n\u001b[0;32m---> 33\u001b[0m     log_dirs \u001b[38;5;241m=\u001b[39m os\u001b[38;5;241m.\u001b[39mlistdir(root)\n\u001b[1;32m     34\u001b[0m     log_dirs \u001b[38;5;241m=\u001b[39m [d \u001b[38;5;28;01mfor\u001b[39;00m d \u001b[38;5;129;01min\u001b[39;00m log_dirs \u001b[38;5;28;01mif\u001b[39;00m name \u001b[38;5;129;01min\u001b[39;00m d]\n\u001b[1;32m     36\u001b[0m     log_dirs\u001b[38;5;241m.\u001b[39msort()\n",
      "\u001b[0;31mFileNotFoundError\u001b[0m: [Errno 2] No such file or directory: '/datasets/nvidia/'"
     ]
    }
   ],
   "source": [
    "import os, os.path as osp\n",
    "import pandas as pd\n",
    "from tqdm import tqdm\n",
    "import datetime\n",
    "import shutil\n",
    "import pathlib\n",
    "\n",
    "scene_name_list = [\n",
    "    \"Jumping\",\n",
    "    # \"Skating\",\n",
    "    # \"Truck\",\n",
    "    # \"Umbrella\",\n",
    "    # \"Balloon1\",\n",
    "    # \"Balloon2\",\n",
    "    # \"Playground\",\n",
    "]\n",
    "\n",
    "root = \"/datasets/nvidia/\"\n",
    "\n",
    "backup_root = \"/datasets/metrics_collected\"\n",
    "prefix = \"tto_\"\n",
    "full_backup=False\n",
    "\n",
    "\n",
    "for name in [\"nvidia_fit_native\", \"nvidia_fit_colfree_native\"]:\n",
    "    backup_dir = osp.join(\n",
    "        backup_root, prefix + name + datetime.datetime.now().strftime(\"%Y%m%d_%H%M%S\")\n",
    "    )\n",
    "\n",
    "    results = {}\n",
    "    for scene_name in tqdm(scene_name_list):\n",
    "        # find the latest log\n",
    "        log_dirs = os.listdir(root)\n",
    "        log_dirs = [d for d in log_dirs if name in d]\n",
    "\n",
    "        log_dirs.sort()\n",
    "        log_dir = log_dirs[-1]\n",
    "        fn = osp.join(\n",
    "            root,\n",
    "            scene_name,\n",
    "            \"logs\",\n",
    "            log_dir,\n",
    "            f\"{prefix}test_report\",\n",
    "            \"nvidia_render_metrics.txt\",\n",
    "        )\n",
    "        assert osp.exists(fn), f\"{fn} does not exist\"\n",
    "        with open(fn, \"r\") as f:\n",
    "            lines = f.readlines()\n",
    "        psnr = float(lines[0].split(\":\")[-1][:-1])\n",
    "        ssim = float(lines[1].split(\":\")[-1][:-1])\n",
    "        lpips = float(lines[2].split(\":\")[-1][:-1])\n",
    "        print(scene_name)\n",
    "        print(fn)\n",
    "        print(lines)\n",
    "        print(psnr, ssim, lpips)\n",
    "        results[f\"{scene_name}-psnr\"] = psnr\n",
    "        # results[f\"{scene_name}-ssim\"] = ssim\n",
    "        results[f\"{scene_name}-lpips\"] = lpips\n",
    "        # copy the log_dir into the backup\n",
    "        if full_backup:\n",
    "            shutil.copytree(\n",
    "                osp.join(root, scene_name, \"logs\", log_dir),\n",
    "                osp.join(backup_dir, f\"{scene_name}_{log_dir}\"),\n",
    "            )\n",
    "        else:\n",
    "            shutil.copytree(\n",
    "                osp.join(root, scene_name, \"logs\", log_dir, f\"{prefix}test\"),\n",
    "                osp.join(backup_dir, scene_name + \"_test\"),\n",
    "            )\n",
    "            shutil.copytree(\n",
    "                osp.join(root, scene_name, \"logs\", log_dir, f\"{prefix}test_report\"),\n",
    "                osp.join(backup_dir, scene_name + \"_test_report\"),\n",
    "            )\n",
    "    df = pd.DataFrame([results], index=[0])\n",
    "    df.to_excel(osp.join(backup_dir, f\"{prefix}{name}_nvidia_metrics.xlsx\"))"
   ]
  },
  {
   "cell_type": "code",
   "execution_count": 8,
   "metadata": {},
   "outputs": [
    {
     "name": "stderr",
     "output_type": "stream",
     "text": [
      "  0%|          | 0/8 [00:00<?, ?it/s]"
     ]
    },
    {
     "name": "stdout",
     "output_type": "stream",
     "text": [
      "rgbd_dataset_freiburg3_sitting_halfsphere\n",
      "0.0122987758 0.010928997 0.383087671\n",
      "--------------------\n",
      "rgbd_dataset_freiburg3_sitting_rpy\n",
      "0.0156068346 0.0068158365 0.4006692251\n",
      "--------------------\n",
      "rgbd_dataset_freiburg3_sitting_static\n",
      "0.0059521545 0.0049121712 0.2401247415\n",
      "--------------------\n",
      "rgbd_dataset_freiburg3_sitting_xyz\n",
      "0.0069672577 0.008019213 0.3007088767\n",
      "--------------------\n",
      "rgbd_dataset_freiburg3_walking_halfsphere\n",
      "0.0172548454 0.0132724977 0.4982495469\n",
      "--------------------\n",
      "rgbd_dataset_freiburg3_walking_rpy\n",
      "0.1797876648 0.0329230302 1.063342392\n",
      "--------------------\n",
      "rgbd_dataset_freiburg3_walking_static\n",
      "0.0052266511 0.0062188446 0.2466156043\n",
      "--------------------\n",
      "rgbd_dataset_freiburg3_walking_xyz\n",
      "0.0136024763 0.0112878662 0.3623105487\n",
      "--------------------\n"
     ]
    },
    {
     "name": "stderr",
     "output_type": "stream",
     "text": [
      "100%|██████████| 8/8 [00:00<00:00, 190.33it/s]\n"
     ]
    },
    {
     "name": "stdout",
     "output_type": "stream",
     "text": [
      "ave_ate: 0.032087082525\n",
      "ave_rpe_t: 0.01179730705\n",
      "ave_rpe_rot: 0.436888575775\n"
     ]
    }
   ],
   "source": [
    "import os, os.path as osp\n",
    "import pandas as pd\n",
    "from tqdm import tqdm\n",
    "import numpy as np\n",
    "import datetime\n",
    "import shutil\n",
    "\n",
    "scene_name_list = [\n",
    "    \"rgbd_dataset_freiburg3_sitting_halfsphere\",\n",
    "    \"rgbd_dataset_freiburg3_sitting_rpy\",\n",
    "    \"rgbd_dataset_freiburg3_sitting_static\",\n",
    "    \"rgbd_dataset_freiburg3_sitting_xyz\",\n",
    "    \"rgbd_dataset_freiburg3_walking_halfsphere\",\n",
    "    \"rgbd_dataset_freiburg3_walking_rpy\",\n",
    "    \"rgbd_dataset_freiburg3_walking_static\",\n",
    "    \"rgbd_dataset_freiburg3_walking_xyz\",\n",
    "]\n",
    "\n",
    "root = \"./data/tum/\"\n",
    "name = \"tum_cam\"\n",
    "\n",
    "metric_fn = \"cam_metrics_ba.txt\"\n",
    "\n",
    "save_dir = \"./data/metrics_collected/\"\n",
    "os.makedirs(save_dir, exist_ok=True)\n",
    "\n",
    "results = {}\n",
    "ate_list, rpe_t_list, rpe_rot_list = [], [], []\n",
    "for scene_name in tqdm(scene_name_list):\n",
    "    # find the latest log\n",
    "    print(scene_name)\n",
    "    log_dirs = os.listdir(osp.join(root, scene_name, \"logs\"))\n",
    "    log_dirs = [d for d in log_dirs if name in d]\n",
    "\n",
    "    log_dirs.sort()\n",
    "    log_dir = log_dirs[-1]\n",
    "\n",
    "    fn = osp.join(root, scene_name, \"logs\", log_dir, metric_fn)\n",
    "    if not osp.exists(fn):\n",
    "        print(\"*\" * 20)\n",
    "        print(f\"error {scene_name}\")\n",
    "        continue\n",
    "    else:\n",
    "        # read txt file\n",
    "        with open(fn, \"r\") as f:\n",
    "            lines = f.readlines()\n",
    "        ate = float(lines[0].strip().split(\":\")[-1].strip())\n",
    "        rpe_trans = float(lines[1].strip().split(\":\")[-1].strip())\n",
    "        rpe_rot = float(lines[2].strip().split(\":\")[-1].strip())\n",
    "    # print(scene_name)\n",
    "    # print(fn)\n",
    "    print(ate, rpe_trans, rpe_rot)\n",
    "    print(\"-\" * 20)\n",
    "    results[f\"{scene_name}-ate\"] = ate\n",
    "    results[f\"{scene_name}-rpe-trans\"] = rpe_trans\n",
    "    results[f\"{scene_name}-rpe-rot\"] = rpe_rot\n",
    "    assert ate > 0 and ate is not None\n",
    "\n",
    "    ate_list.append(ate)\n",
    "    rpe_t_list.append(rpe_trans)\n",
    "    rpe_rot_list.append(rpe_rot)\n",
    "ave_ate = np.mean(ate_list)\n",
    "ave_rpe_t = np.mean(rpe_t_list)\n",
    "ave_rpe_rot = np.mean(rpe_rot_list)\n",
    "print(f\"ave_ate: {ave_ate}\")\n",
    "print(f\"ave_rpe_t: {ave_rpe_t}\")\n",
    "print(f\"ave_rpe_rot: {ave_rpe_rot}\")\n",
    "\n",
    "df = pd.DataFrame([results], index=[0])\n",
    "df.to_excel(osp.join(save_dir, f\"{name}_collected.xlsx\"))"
   ]
  },
  {
   "cell_type": "markdown",
   "metadata": {},
   "source": [
    "# Sintel"
   ]
  },
  {
   "cell_type": "code",
   "execution_count": 7,
   "metadata": {},
   "outputs": [
    {
     "name": "stdout",
     "output_type": "stream",
     "text": [
      "Jupyter environment detected. Enabling Open3D WebVisualizer.\n",
      "[Open3D INFO] WebRTC GUI backend enabled.\n",
      "[Open3D INFO] WebRTCWindowSystem: HTTP handshake server disabled.\n",
      "No GS_BACKEND env var specified, for now use native_add3 backend\n",
      "GS_BACKEND: native_add3\n"
     ]
    },
    {
     "name": "stderr",
     "output_type": "stream",
     "text": [
      "  0%|          | 0/14 [00:00<?, ?it/s]"
     ]
    },
    {
     "name": "stdout",
     "output_type": "stream",
     "text": [
      "alley_2\n",
      "0.0143410494 0.0024968566 0.1586689173\n",
      "--------------------\n",
      "ambush_4\n",
      "0.0441017642 0.0267718095 0.240772302\n",
      "--------------------\n",
      "ambush_5\n",
      "0.0145650495 0.0101882904 0.1904611816\n",
      "--------------------\n",
      "ambush_6\n",
      "0.085430852 0.0320868373 0.6248381749\n",
      "--------------------\n",
      "cave_2\n",
      "0.3731932673 0.1938236655 0.8389448562\n",
      "--------------------\n",
      "cave_4\n",
      "0.0172733576 0.0066662492 0.0951184378\n",
      "--------------------\n",
      "market_2\n",
      "0.0016837358 0.0010989263 0.0452446751\n",
      "--------------------\n",
      "market_5\n",
      "0.112842299 0.0668719557 0.4289995079\n",
      "--------------------\n",
      "market_6\n",
      "0.0220898611 0.0055961756 0.1134531871\n",
      "--------------------\n",
      "shaman_3\n",
      "0.0021357294 0.000488699 0.0514223266\n",
      "--------------------\n",
      "sleeping_1\n",
      "0.0082198222 0.0014668028 0.0714132267\n",
      "--------------------\n",
      "sleeping_2\n",
      "0.0030840239 0.0026281064 0.0543800723\n",
      "--------------------\n",
      "temple_2\n",
      "0.0854569666 0.0082334248 0.1290300189\n",
      "--------------------\n",
      "temple_3\n",
      "0.4712825878 0.1499125682 0.9800296046\n",
      "--------------------\n"
     ]
    },
    {
     "name": "stderr",
     "output_type": "stream",
     "text": [
      "100%|██████████| 14/14 [00:00<00:00, 198.22it/s]\n"
     ]
    },
    {
     "name": "stdout",
     "output_type": "stream",
     "text": [
      "ave_ate: 0.08969288327142855\n",
      "ave_rpe_t: 0.03630931194999999\n",
      "ave_rpe_rot: 0.2873411777857143\n"
     ]
    }
   ],
   "source": [
    "import os, os.path as osp\n",
    "import pandas as pd\n",
    "from tqdm import tqdm\n",
    "import numpy as np\n",
    "import datetime\n",
    "import shutil\n",
    "from mosca_evaluate import test_sintel_cam\n",
    "\n",
    "scene_name_list = [\n",
    "    \"alley_2\",\n",
    "    \"ambush_4\",\n",
    "    \"ambush_5\",\n",
    "    \"ambush_6\",\n",
    "    \"cave_2\",\n",
    "    \"cave_4\",\n",
    "    \"market_2\",\n",
    "    \"market_5\",\n",
    "    \"market_6\",\n",
    "    \"shaman_3\",\n",
    "    \"sleeping_1\",\n",
    "    \"sleeping_2\",\n",
    "    \"temple_2\",\n",
    "    \"temple_3\",\n",
    "]\n",
    "\n",
    "root = \"./data/sintel/\"\n",
    "name = \"sintel\"\n",
    "metric_fn = \"cam_metrics_ba.txt\"\n",
    "\n",
    "save_dir = \"./data/metrics_collected/\"\n",
    "os.makedirs(save_dir, exist_ok=True)\n",
    "\n",
    "results = {}\n",
    "ate_list, rpe_t_list, rpe_rot_list = [], [], []\n",
    "for scene_name in tqdm(scene_name_list):\n",
    "    # find the latest log\n",
    "    print(scene_name)\n",
    "    log_dirs = os.listdir(osp.join(root, scene_name, \"logs\"))\n",
    "    log_dirs = [d for d in log_dirs if name in d]\n",
    "\n",
    "    log_dirs.sort()\n",
    "    log_dir = log_dirs[-1]\n",
    "\n",
    "    fn = osp.join(root, scene_name, \"logs\", log_dir, metric_fn)\n",
    "    if not osp.exists(fn):\n",
    "        print(\"*\" * 20)\n",
    "        print(f\"error {scene_name}\")\n",
    "        continue\n",
    "    else:\n",
    "        # read txt file\n",
    "        with open(fn, \"r\") as f:\n",
    "            lines = f.readlines()\n",
    "        ate = float(lines[0].strip().split(\":\")[-1].strip())\n",
    "        rpe_trans = float(lines[1].strip().split(\":\")[-1].strip())\n",
    "        rpe_rot = float(lines[2].strip().split(\":\")[-1].strip())\n",
    "    print(ate, rpe_trans, rpe_rot)\n",
    "\n",
    "    print(\"-\" * 20)\n",
    "    results[f\"{scene_name}-ate\"] = ate\n",
    "    results[f\"{scene_name}-rpe-trans\"] = rpe_trans\n",
    "    results[f\"{scene_name}-rpe-rot\"] = rpe_rot\n",
    "    assert ate > 0 and ate is not None\n",
    "\n",
    "    ate_list.append(ate)\n",
    "    rpe_t_list.append(rpe_trans)\n",
    "    rpe_rot_list.append(rpe_rot)\n",
    "ave_ate = np.mean(ate_list)\n",
    "ave_rpe_t = np.mean(rpe_t_list)\n",
    "ave_rpe_rot = np.mean(rpe_rot_list)\n",
    "print(f\"ave_ate: {ave_ate}\")\n",
    "print(f\"ave_rpe_t: {ave_rpe_t}\")\n",
    "print(f\"ave_rpe_rot: {ave_rpe_rot}\")\n",
    "\n",
    "df = pd.DataFrame([results], index=[0])\n",
    "df.to_excel(osp.join(save_dir, f\"{name}_collected.xlsx\"))"
   ]
  }
 ],
 "metadata": {
  "kernelspec": {
   "display_name": "base",
   "language": "python",
   "name": "python3"
  },
  "language_info": {
   "codemirror_mode": {
    "name": "ipython",
    "version": 3
   },
   "file_extension": ".py",
   "mimetype": "text/x-python",
   "name": "python",
   "nbconvert_exporter": "python",
   "pygments_lexer": "ipython3",
   "version": "3.12.7"
  }
 },
 "nbformat": 4,
 "nbformat_minor": 2
}
